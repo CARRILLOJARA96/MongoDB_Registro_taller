{
 "cells": [
  {
   "attachments": {},
   "cell_type": "markdown",
   "metadata": {},
   "source": [
    "## Funcion afterSave para ATLAS MongoDB"
   ]
  },
  {
   "cell_type": "code",
   "execution_count": null,
   "metadata": {},
   "outputs": [],
   "source": [
    "exports=function(){\n",
    "    var collection = context.services.get(\"mongodb-atlas\").db(\"cursoMongoDB\").collection(\"registers\");\n",
    "\n",
    "    return collection.updateOne(\n",
    "        {\n",
    "            _id:1\n",
    "        },\n",
    "        {\n",
    "            $inc:{ contador: 1}\n",
    "        },\n",
    "        {\n",
    "            upsert:true\n",
    "        }\n",
    "    )\n",
    "};"
   ]
  }
 ],
 "metadata": {
  "language_info": {
   "name": "python"
  },
  "orig_nbformat": 4
 },
 "nbformat": 4,
 "nbformat_minor": 2
}
